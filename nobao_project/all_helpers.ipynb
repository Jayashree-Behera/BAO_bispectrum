{
 "cells": [
  {
   "cell_type": "code",
   "execution_count": 2,
   "metadata": {},
   "outputs": [],
   "source": [
    "from scipy.optimize import curve_fit,minimize\n",
    "import numpy as np\n",
    "import matplotlib.pyplot as plt\n",
    "from numba import njit\n",
    "import argparse\n",
    "import os, sys\n",
    "dir2 = os.path.abspath('')\n",
    "dir1 = os.path.dirname(dir2)\n",
    "if not dir1 in sys.path: sys.path.append(dir1)\n",
    "from my_utils.call_data import CAMB\n",
    "from my_utils.mcmc.mcmc import RunMCMC\n",
    "from my_utils.utils import *\n",
    "\n",
    "import scipy.interpolate as interpolate\n",
    "from scipy import integrate\n",
    "import math\n",
    "\n",
    "from tqdm import tqdm\n",
    "import emcee                    # for MCMC part\n",
    "\n",
    "import pickle "
   ]
  },
  {
   "cell_type": "markdown",
   "metadata": {},
   "source": [
    "# ABACUS mock preparation"
   ]
  },
  {
   "cell_type": "code",
   "execution_count": 2,
   "metadata": {},
   "outputs": [
    {
     "name": "stdout",
     "output_type": "stream",
     "text": [
      "QSO (30,) (30, 30) (30, 25) (2600,) (2600, 2600) (2600, 25)\n"
     ]
    }
   ],
   "source": [
    "pk = []\n",
    "bk = []\n",
    "N = 0\n",
    "redshifts = [\"BGS\",\"ELG\",\"LRG\",\"QSO\"]\n",
    "i=3\n",
    "for file in os.listdir(\"data/Abacus_mocks\"):\n",
    "    # new_file  = file.replace(\".\",\"_\")+\".txt\"\n",
    "    # print(file,new_file)\n",
    "    # os.rename(\"data/Abacus_mocks/\"+file,\"data/Abacus_mocks/\"+new_file)\n",
    "    if redshifts[i] in file and file[:2] == \"pk\":\n",
    "        file_pk = np.loadtxt(\"data/Abacus_mocks/pk\"+file[2:])\n",
    "        file_bk = np.loadtxt(\"data/Abacus_mocks/bk\"+file[2:])\n",
    "        pk.append(file_pk[:,1])\n",
    "        k = file_pk[:,0]\n",
    "        kk = file_bk[:,0:3]\n",
    "        bk.append(file_bk[:,3])\n",
    "        N = N+1\n",
    "\n",
    "pk = np.array(pk).T\n",
    "bk = np.array(bk).T\n",
    "\n",
    "pkm = np.mean(pk,axis = 1)\n",
    "pcov = np.cov(pk,rowvar = True)\n",
    "bkm = np.mean(bk,axis = 1)\n",
    "bcov = np.cov(bk,rowvar = True)\n",
    "\n",
    "print(redshifts[i],pkm.shape,pcov.shape,pk.shape,bkm.shape,bcov.shape,bk.shape)\n",
    "# plt.plot(pkm, color =\"red\")\n",
    "# plt.plot(bkm, color =\"blue\")\n",
    "\n",
    "# plt.plot(pkm[:,0],pkm[:,2], color =\"red\")\n",
    "# plt.plot(pkm[:,0],pkm[:,3], color =\"red\")\n",
    "\n",
    "# np.savez(\"data/Abacus/\"+ redshifts[i] +\"/pk_\"+redshifts[i]+\".npz\",k = k, pkm = pkm, pk = pk , pcov = pcov)\n",
    "# np.savez(\"data/Abacus/\"+ redshifts[i] +\"/bk_\"+redshifts[i]+\".npz\",kk = kk, bkm = bkm, bk = bk , bcov = bcov)\n"
   ]
  },
  {
   "cell_type": "code",
   "execution_count": 182,
   "metadata": {},
   "outputs": [
    {
     "data": {
      "text/plain": [
       "(30, 25)"
      ]
     },
     "execution_count": 182,
     "metadata": {},
     "output_type": "execute_result"
    }
   ],
   "source": [
    "pk.shape"
   ]
  },
  {
   "cell_type": "code",
   "execution_count": 191,
   "metadata": {},
   "outputs": [
    {
     "data": {
      "text/plain": [
       "[<matplotlib.lines.Line2D at 0x15550a536ca0>]"
      ]
     },
     "execution_count": 191,
     "metadata": {},
     "output_type": "execute_result"
    },
    {
     "data": {
      "image/png": "[encoded data removed]",
      "text/plain": [
       "<Figure size 432x288 with 1 Axes>"
      ]
     },
     "metadata": {
      "needs_background": "light"
     },
     "output_type": "display_data"
    }
   ],
   "source": [
    "plt.plot(bk[:,2])"
   ]
  },
  {
   "cell_type": "markdown",
   "metadata": {},
   "source": [
    "# CAMB data generation"
   ]
  },
  {
   "cell_type": "code",
   "execution_count": 2,
   "metadata": {},
   "outputs": [],
   "source": [
    "camb = CAMB()"
   ]
  },
  {
   "cell_type": "code",
   "execution_count": 5,
   "metadata": {},
   "outputs": [],
   "source": [
    "list_H0 = np.linspace(67.77-2.5,67.77+2.5,11)\n",
    "list_Om = np.linspace(0.307-0.03,0.307+0.03,11)\n",
    "list_z = [0.5]"
   ]
  },
  {
   "cell_type": "code",
   "execution_count": 6,
   "metadata": {},
   "outputs": [
    {
     "data": {
      "text/plain": [
       "(array([65.27, 65.77, 66.27, 66.77, 67.27, 67.77, 68.27, 68.77, 69.27,\n",
       "        69.77, 70.27]),\n",
       " array([0.277, 0.283, 0.289, 0.295, 0.301, 0.307, 0.313, 0.319, 0.325,\n",
       "        0.331, 0.337]))"
      ]
     },
     "execution_count": 6,
     "metadata": {},
     "output_type": "execute_result"
    }
   ],
   "source": [
    "list_H0, list_Om"
   ]
  },
  {
   "cell_type": "code",
   "execution_count": 2,
   "metadata": {},
   "outputs": [],
   "source": [
    "# k = 0\n",
    "# for h0 in list_H0:\n",
    "#     for om in list_Om: \n",
    "#         ombh = 0.04825*(h0/100)**2\n",
    "#         omch = (om-0.04825)*(h0/100)**2\n",
    "#         results = camb.results(H0 = h0, ombh2 = ombh, omch2 = omch, omk = -0.0, all_z = list_z);\n",
    "#         print(om,results.get_Omega(\"cdm\")+results.get_Omega(\"baryon\"),om+results.get_Omega(\"de\"))\n",
    "#         filename = f\"camb_{int(np.round(h0,2)*100)}{int(om*10000)}_matterpower_z{''.join(map(str, list_z))}_{k:04}.dat\"\n",
    "#         parent_folder = \"/home/jayashreeb/Documents/Power_Bi/nobao_project/data/camb_new/camb_python/\"\n",
    "#         infoname = f\"infocamb_{int(np.round(h0,2)*100)}{int(om*10000)}_matterpower_z{''.join(map(str, list_z))}_{k:04}.npy\"\n",
    "#         info_folder = \"/global/u1/s/shreeb/Project1/nobao_project/data/camb_new/camb_python_info/\"\n",
    "#         #np.save(info_folder + infoname, results.get_derived_params())\n",
    "#         #print(filename, infoname)\n",
    "#         kh,z,pkh = results.get_matter_power_spectrum(maxkh = 0.3/0.7, npoints = 200)\n",
    "#         pk_kh = np.vstack((kh,pkh)).T\n",
    "#         # np.savetxt(parent_folder + filename, pk_kh)\n",
    "#         plt.plot(pk_kh[:,0],pk_kh[:,1])\n",
    "#         #plt.legend()\n",
    "#         k=k+1"
   ]
  },
  {
   "cell_type": "code",
   "execution_count": null,
   "metadata": {},
   "outputs": [],
   "source": []
  },
  {
   "cell_type": "markdown",
   "metadata": {},
   "source": [
    "# Model for bao : apply mcmc and curvefit"
   ]
  },
  {
   "cell_type": "code",
   "execution_count": 3,
   "metadata": {},
   "outputs": [
    {
     "name": "stdout",
     "output_type": "stream",
     "text": [
      "[13.23193237 12.25595536  9.80136397  7.71374685  6.04132948  5.11637458\n",
      "  4.53120341  3.95196624  3.29563986  2.74828951  2.3689046   2.14634163\n",
      "  1.9859681   1.80962756  1.61219936  1.43410921  1.29783012  1.20101217\n",
      "  1.12553009  1.05182344  0.97635282  0.90374558  0.84083328  0.78948868\n",
      "  0.74644159  0.70670753  0.66857676  0.63246127  0.59910273  0.56953518]\n",
      "[ 8.2748755  13.01943376 11.40370297  8.66125774  6.76989471  5.78267872\n",
      "  5.09782992  4.34617943  3.54381177  2.89850739  2.49522552  2.25616755\n",
      "  2.04849291  1.81545963  1.5763781   1.37940146  1.23849274  1.13581866\n",
      "  1.04556939  0.95390534  0.86460288  0.78637674  0.72206257  0.66879272\n",
      "  0.62116893  0.5762354   0.53381187  0.49493449  0.46012228  0.42866972]\n"
     ]
    },
    {
     "data": {
      "image/png": "[encoded data removed]",
      "text/plain": [
       "<Figure size 432x288 with 1 Axes>"
      ]
     },
     "metadata": {
      "needs_background": "light"
     },
     "output_type": "display_data"
    }
   ],
   "source": [
    "\n",
    "# Bk=np.load(\"../Molino_mocks/bk_molino_z0.npz\")\n",
    "# # Pk=np.load(\"../Molino_mocks/pk_molino_z0.npz\")\n",
    "# # k,pk0,pk2,pk4=Pk['k'], Pk['pk0'], Pk['pk2'], Pk['pk4']\n",
    "# kk,bk0,bk2,bk4=Bk['kk'], Bk['bk0'], Bk['bk2'], Bk['bk4']\n",
    "# # pkm=np.mean(pk0,axis=1)\n",
    "# # bkm=np.mean(bk0,axis=1)\n",
    "\n",
    "# Bk=np.load(\"data/glam/bk_z0.50.npz\")\n",
    "# Pk=np.load(\"data/glam/pk_z0.50.npz\")\n",
    "# k,pkm,pknm,pk,pkn=Pk['k'], Pk['pkm'].T[0],Pk['pknm'].T[0],Pk['pk'],Pk['pkn']\n",
    "# kk,bkm,bknm,bk,bkn=Bk['k'], Bk['bkm'].T[0], Bk['bknm'].T[0],Bk['bk'],Bk['bkn']\n",
    "\n",
    "# glamw = pkm/pknm\n",
    "# print(pkm)\n",
    "# plt.plot(k,k*pkm,label = \"glam\")\n",
    "\n",
    "# # kk=kk[np.where((kk[:,0]!=kk[:,1]) & (kk[:,0]!=kk[:,2]))]\n",
    "# # bkm=bkm[np.where((kk[:,0]!=kk[:,1]) & (kk[:,0]!=kk[:,2]))]\n",
    "# # bk=bk[np.where((kk[:,0]!=kk[:,1]) & (kk[:,0]!=kk[:,2]))]\n",
    "# # bknm=bknm[np.where((kk[:,0]!=kk[:,1]) & (kk[:,0]!=kk[:,2]))]\n",
    "# # bkn=bkn[np.where((kk[:,0]!=kk[:,1]) & (kk[:,0]!=kk[:,2]))]\n",
    "# # bk0=bk0[np.where((kk[:,0]!=kk[:,1]) & (kk[:,0]!=kk[:,2]))]\n",
    "\n",
    "\n",
    "# #getting glam full_bispectrum data and it's covariance \n",
    "# # kg,bg,bgn,cov,scaled_cov,_ = cutslice(0.015,0.3,kk,bkm,bk,bknm,bk0)\n",
    "# # icov = np.linalg.inv(cov)\n",
    "# # print(cov.shape)\n",
    "\n",
    "# def prepare_pk(use_glam = False):\n",
    "#     if not use_glam:\n",
    "#         pkcamb = np.loadtxt(\"data/camb/camb_25812257_matterpower_z0.dat\")\n",
    "#         _,pknmf,pkmf = less_baoPk(pkcamb,k,5)\n",
    "#         pknmf = pknmf/np.mean(pknmf) * np.mean(pkm)\n",
    "#         pkmf = pkmf/np.mean(pkmf) * np.mean(pknm)\n",
    "#     else:\n",
    "#         pkmf = pkm\n",
    "#         pknmf = pknm\n",
    "    \n",
    "#     return pkmf,pknmf\n",
    "\n",
    "# pkm,pknm = prepare_pk(use_glam = False)\n",
    "# cambw = pkm/pknm\n",
    "# print(pkm)\n",
    "# plt.plot(k,k*pkm,label = \"camb\")\n",
    "# plt.legend()\n",
    "# def model(kk,*args):\n",
    "#     alpha,f,b1,b2,A= args\n",
    "\n",
    "#     #print(pkm,pknm)\n",
    "\n",
    "#     pk1=np.interp(alpha*kk[:,0],k,pkm)\n",
    "#     pk2=np.interp(alpha*kk[:,1],k,pkm)\n",
    "#     pk3=np.interp(alpha*kk[:,2],k,pkm)\n",
    "\n",
    "#     pkn1=np.interp(alpha*kk[:,0],k,pknm)\n",
    "#     pkn2=np.interp(alpha*kk[:,1],k,pknm)\n",
    "#     pkn3=np.interp(alpha*kk[:,2],k,pknm)\n",
    "\n",
    "#     #res = Bi_meas(kk, pk1,pk2,pk3,pkn1,pkn2,pkn3,alpha,f,b1,b2, f1,b11,b21 )\n",
    "#     bfa = np.array(Bi0(alpha*kk, pk1,pk2,pk3,f,b1,b2))\n",
    "#     bsa = np.array(Bi0(alpha*kk, pkn1,pkn2,pkn3,f,b1,b2))\n",
    "#     bs = np.array(Bi0(kk, pkn1,pkn2,pkn3,f,b1,b2))\n",
    "#     #bw = np.array(Bi0(alpha*kk, pk1,pk2,pk3,f,b1,b2))/np.array(Bi0(alpha*kk, pkn1,pkn2,pkn3,f,b1,b2))\n",
    "\n",
    "#     return bfa/bsa*bs"
   ]
  },
  {
   "cell_type": "code",
   "execution_count": 46,
   "metadata": {},
   "outputs": [
    {
     "data": {
      "text/plain": [
       "[<matplotlib.lines.Line2D at 0x15550eafc910>]"
      ]
     },
     "execution_count": 46,
     "metadata": {},
     "output_type": "execute_result"
    },
    {
     "data": {
      "image/png": "[encoded data removed]",
      "text/plain": [
       "<Figure size 432x288 with 1 Axes>"
      ]
     },
     "metadata": {
      "needs_background": "light"
     },
     "output_type": "display_data"
    }
   ],
   "source": [
    "plt.plot(k,pkm)"
   ]
  },
  {
   "cell_type": "code",
   "execution_count": 47,
   "metadata": {},
   "outputs": [
    {
     "data": {
      "text/plain": [
       "[<matplotlib.lines.Line2D at 0x15550ea6e310>]"
      ]
     },
     "execution_count": 47,
     "metadata": {},
     "output_type": "execute_result"
    },
    {
     "data": {
      "image/png": "[encoded data removed]",
      "text/plain": [
       "<Figure size 432x288 with 1 Axes>"
      ]
     },
     "metadata": {
      "needs_background": "light"
     },
     "output_type": "display_data"
    }
   ],
   "source": [
    "plt.plot(pkm/pknm)"
   ]
  },
  {
   "cell_type": "code",
   "execution_count": 4,
   "metadata": {},
   "outputs": [
    {
     "data": {
      "text/plain": [
       "<matplotlib.legend.Legend at 0x15550dac13a0>"
      ]
     },
     "execution_count": 4,
     "metadata": {},
     "output_type": "execute_result"
    },
    {
     "data": {
      "image/png": "[encoded data removed]",
      "text/plain": [
       "<Figure size 432x288 with 1 Axes>"
      ]
     },
     "metadata": {
      "needs_background": "light"
     },
     "output_type": "display_data"
    }
   ],
   "source": [
    "plt.plot(k[np.where(k>0.0)],glamw[np.where(k>0.0)],label = \"glam\")\n",
    "plt.plot(k[np.where(k>0.0)],cambw[np.where(k>0.0)],label = \"camb\")\n",
    "plt.legend()\n"
   ]
  },
  {
   "cell_type": "code",
   "execution_count": 24,
   "metadata": {},
   "outputs": [
    {
     "data": {
      "text/plain": [
       "array([0.005, 0.015, 0.025, 0.035, 0.045, 0.055, 0.065, 0.075, 0.085,\n",
       "       0.095, 0.105, 0.115, 0.125, 0.135, 0.145, 0.155, 0.165, 0.175,\n",
       "       0.185, 0.195, 0.205, 0.215, 0.225, 0.235, 0.245, 0.255, 0.265,\n",
       "       0.275, 0.285, 0.295])"
      ]
     },
     "execution_count": 24,
     "metadata": {},
     "output_type": "execute_result"
    }
   ],
   "source": [
    "k[np.where(glamw)]"
   ]
  },
  {
   "cell_type": "code",
   "execution_count": 25,
   "metadata": {},
   "outputs": [],
   "source": [
    "# model = lambda kk,alpha,f,b1,b2,f1,b11,b21 : Bi_meas(kk, pk1,pk2,pk3,pkn1,pkn2,pkn3,alpha,f,b1,b2,f,b1,b2)\n",
    "# model_wig = lambda kk,f,b1,b2 : Bi_wiggle(kk,pk1,pk2,pk3, pkn1,pkn2,pkn3, f, b1, b2)\n",
    "# model_full=  lambda kk,alpha,f,b1,b2 : Bi0(alpha*kk,pk1,pk2,pk3 ,f, b1, b2)"
   ]
  },
  {
   "cell_type": "code",
   "execution_count": 31,
   "metadata": {},
   "outputs": [],
   "source": [
    "k1,k2,k3=kg[:,0],kg[:,1],kg[:,2]\n",
    "r=np.array(k1*k2*k3)**2\n",
    "b0 = [1, 0.17356491,  1.91384586, -0.80008999,1]\n",
    "bopt, bcov = curve_fit(model,kg,bgn,b0,maxfev=100000)"
   ]
  },
  {
   "cell_type": "code",
   "execution_count": 32,
   "metadata": {},
   "outputs": [
    {
     "data": {
      "text/plain": [
       "array([ 0.76984371,  0.0857446 ,  1.58744918, -0.55063981,  1.        ])"
      ]
     },
     "execution_count": 32,
     "metadata": {},
     "output_type": "execute_result"
    }
   ],
   "source": [
    "bopt"
   ]
  },
  {
   "cell_type": "code",
   "execution_count": 28,
   "metadata": {},
   "outputs": [
    {
     "data": {
      "text/plain": [
       "[<matplotlib.lines.Line2D at 0x7f05686e4250>]"
      ]
     },
     "execution_count": 28,
     "metadata": {},
     "output_type": "execute_result"
    },
    {
     "data": {
      "image/png": "[encoded data removed]",
      "text/plain": [
       "<Figure size 432x288 with 1 Axes>"
      ]
     },
     "metadata": {
      "needs_background": "light"
     },
     "output_type": "display_data"
    }
   ],
   "source": [
    "#bfg = 4.5*model(kg,1, 0.1, 1, -0.25,1)\n",
    "plt.plot(model(kg,*bopt))\n",
    "plt.plot(bg)\n",
    "#plt.plot(bfg)\n"
   ]
  },
  {
   "cell_type": "code",
   "execution_count": 9,
   "metadata": {},
   "outputs": [
    {
     "data": {
      "text/plain": [
       "<matplotlib.legend.Legend at 0x7faa9b227100>"
      ]
     },
     "execution_count": 9,
     "metadata": {},
     "output_type": "execute_result"
    },
    {
     "data": {
      "image/png": "[encoded data removed]",
      "text/plain": [
       "<Figure size 432x288 with 1 Axes>"
      ]
     },
     "metadata": {
      "needs_background": "light"
     },
     "output_type": "display_data"
    }
   ],
   "source": [
    "plt.plot(k,pkm/pknm, label = \"glam\")\n",
    "plt.plot(k,fpk/ps, label = \"camb\")\n",
    "plt.plot(k,less_baoPk(pcamb,k,4.5)/ps, label = \"reduced_bao_camb\")\n",
    "plt.plot(k,[1]*len(k),\"--\",color = \"gray\")\n",
    "\n",
    "\n",
    "plt.legend()"
   ]
  },
  {
   "cell_type": "markdown",
   "metadata": {},
   "source": [
    "For kmax = 0.2, [ 1.        , -0.11796866,  1.94064156, -0.35380374]\n",
    "\n",
    "For kmax = 0.3, [1.02921744, 1.05416385, 1.1561273 , 0.45504566]"
   ]
  },
  {
   "cell_type": "code",
   "execution_count": null,
   "metadata": {},
   "outputs": [],
   "source": [
    "theow4 = model(kg,*bopt)\n",
    "meas = bg/bgn\n",
    "for i in tqdm(range(1)):\n",
    "    plt.plot(np.abs(meas-theow4)/meas, \".\", color = \"green\", label = \"theo/meas;params=[0.149,1.911,-0.738\")\n",
    "    plt.ylabel(\"relative error\")\n",
    "    plt.legend()\n",
    "\n"
   ]
  },
  {
   "cell_type": "markdown",
   "metadata": {},
   "source": [
    "# ABACUS smooth using curve-fit"
   ]
  },
  {
   "cell_type": "code",
   "execution_count": 28,
   "metadata": {},
   "outputs": [
    {
     "name": "stdout",
     "output_type": "stream",
     "text": [
      "kmax=0.3, kmin=0.015, nbins=2513, nmocks=25, hf = -0.00963855421686747\n"
     ]
    }
   ],
   "source": [
    "import numpy as np\n",
    "import argparse\n",
    "import os, sys\n",
    "os.environ[\"HDF5_USE_FILE_LOCKING\"] = \"FALSE\"\n",
    "from pathlib import Path\n",
    "dir2 = os.path.abspath('')\n",
    "dir1 = os.path.dirname(dir2)\n",
    "if not dir1 in sys.path: sys.path.append(dir1)\n",
    "from my_utils.mcmc.mcmc import RunMCMC\n",
    "from my_utils.utils import *\n",
    "\n",
    "import math\n",
    "import warnings          # for ignoring the warnings (not recommended)\n",
    "warnings.filterwarnings('ignore')\n",
    "\n",
    "Bk_molino=np.load(\"../Molino_mocks/bk_molino_z0.npz\")\n",
    "bk_mol = Bk_molino[\"bk0\"]\n",
    "\n",
    "redshifts = [\"BGS\",\"ELG\",\"LRG\",\"QSO\"]\n",
    "i=0\n",
    "\n",
    "Bk=np.load(\"data/Abacus/\"+ redshifts[i] +\"/bk_\"+redshifts[i]+\".npz\")\n",
    "Pk=np.load(\"data/Abacus/\"+ redshifts[i] +\"/pk_\"+redshifts[i]+\".npz\")\n",
    "k,pkm,pk=Pk['k'], Pk['pkm'],Pk['pk']\n",
    "kk,bkm,bk=Bk['kk'], Bk['bkm'],Bk['bk']\n",
    "\n",
    "kg,bg,bgn,cov,scaled_cov,_ = cutslice(0.015,0.3,kk,bkm,bk,bkm,bk,bk_mol)\n",
    "icov = np.linalg.inv(scaled_cov)\n",
    "# index = np.where(k>=0.015 and k<=0.2)\n",
    "# k,pkm = k[index],pk[index]\n",
    "\n",
    "def fit_smoothPk(Pkcamb,k):\n",
    "    if len(Pkcamb.shape) == 2:\n",
    "        Pcamb = Pkcamb[:,1]\n",
    "        kcamb = Pkcamb[:,0]\n",
    "    else:\n",
    "        Pcamb = Pkcamb\n",
    "        kcamb = k\n",
    "    # kcamb[0]=0\n",
    "    # Pcamb[0]=0\n",
    "    fpk = np.interp(k,kcamb,Pcamb)\n",
    "    Ps = lambda k,A0,keq,a0,a2,a4 : smoothPk(k,A0,keq,a0,a2,a4)\n",
    "    p0 = [30000,0.05,0,0,0]\n",
    "    popt, _ = curve_fit(Ps, k ,fpk, p0, (1/k)**2, maxfev=1000000)\n",
    "    return fpk,smoothPk(k,*popt)\n",
    "\n",
    "def model(kk,*args):\n",
    "    f,b1,b2,S0,S1 = args\n",
    "\n",
    "    fpkm,pknm = fit_smoothPk(pkm,k)\n",
    "\n",
    "    pk1=np.interp(kk[:,0],k,pkm)\n",
    "    pk2=np.interp(kk[:,1],k,pkm)\n",
    "    pk3=np.interp(kk[:,2],k,pkm)\n",
    "\n",
    "    pkn1=np.interp(kk[:,0],k,pknm)\n",
    "    pkn2=np.interp(kk[:,1],k,pknm)\n",
    "    pkn3=np.interp(kk[:,2],k,pknm)\n",
    "\n",
    "    pkn11=np.interp(kk[:,0],k,pknm)\n",
    "    pkn12=np.interp(kk[:,1],k,pknm)\n",
    "    pkn13=np.interp(kk[:,2],k,pknm)\n",
    "\n",
    "    res = Bi_wiggle(kk,pk1,pk2,pk3,pkn1,pkn2,pkn3,f,b1,b2,S0,S1)*Bi0(kk,pkn11,pkn12,pkn13,f,b1,b2,S0,S1)\n",
    "    return res\n",
    "\n",
    "def get_smooth(kk,pk,*args):\n",
    "    f,b1,b2,S0,S1 = args\n",
    "    \n",
    "    pk = pk/np.mean(pk)*np.mean(pkm)\n",
    "    fpk,pkn = fit_smoothPk(pk,k)\n",
    "\n",
    "    pk1=np.interp(kk[:,0],k,pk)\n",
    "    pk2=np.interp(kk[:,1],k,pk)\n",
    "    pk3=np.interp(kk[:,2],k,pk)\n",
    "\n",
    "    pkn1=np.interp(kk[:,0],k,pkn)\n",
    "    pkn2=np.interp(kk[:,1],k,pkn)\n",
    "    pkn3=np.interp(kk[:,2],k,pkn)\n",
    "\n",
    "    pkn11=np.interp(kk[:,0],k,pkn)\n",
    "    pkn12=np.interp(kk[:,1],k,pkn)\n",
    "    pkn13=np.interp(kk[:,2],k,pkn)\n",
    "    \n",
    "    bfull = np.array(Bi0(kk,pk1,pk2,pk3,f,b1,b2,S0,S1))\n",
    "    bsmooth = np.array(Bi0(kk, pkn1,pkn2,pkn3,f,b1,b2,S0,S1))\n",
    "    bwiggle = Bi_wiggle(kk,pk1,pk2,pk3,pkn1,pkn2,pkn3,f,b1,b2,S0,S1)\n",
    "    \n",
    "    return pk,fpk,pkn,bfull,bsmooth,bwiggle\n",
    "\n",
    "def get_smooth_all(kk,pk,*args,filepath = \"data/Abacus_mocks/\", outpath = \"data/Abacus/Abacus_smooth/\"):\n",
    "    all_pk = []\n",
    "    all_bk = []\n",
    "    N=0\n",
    "    for file in os.listdir(filepath):\n",
    "        if redshifts[i] in file and file[:2] == \"pk\" :\n",
    "            file_pk = \"pk\"+file[2:]\n",
    "            file_bk = \"bk\"+file[2:]\n",
    "            pk = np.loadtxt(filepath+file_pk)[:,1]\n",
    "            bk = np.loadtxt(filepath+file_bk)[:,3]\n",
    "            \n",
    "            pkfull,fpk,pksmooth,bfull,bsmooth,bwiggle = get_smooth(kk,pk,*args)\n",
    "            all_pk = np.stack((k,pk,pksmooth)).T\n",
    "            all_bk = np.stack((kk[:,0],kk[:,1],kk[:,2],bk,bfull,bsmooth)).T\n",
    "            print(file_pk,file_bk,all_pk.shape,all_bk.shape)\n",
    "            np.savetxt(outpath+\"all_\"+file_pk,all_pk)\n",
    "            np.savetxt(outpath+\"all_\"+file_bk,all_bk)\n",
    "            N=N+1\n",
    "            # break\n",
    "    print(N)\n",
    "    # return all_pk, all_bk\n",
    "            "
   ]
  },
  {
   "cell_type": "code",
   "execution_count": 29,
   "metadata": {},
   "outputs": [
    {
     "ename": "KeyboardInterrupt",
     "evalue": "",
     "output_type": "error",
     "traceback": [
      "\u001b[0;31m---------------------------------------------------------------------------\u001b[0m",
      "\u001b[0;31mKeyboardInterrupt\u001b[0m                         Traceback (most recent call last)",
      "Cell \u001b[0;32mIn[29], line 4\u001b[0m\n\u001b[1;32m      2\u001b[0m r\u001b[38;5;241m=\u001b[39mnp\u001b[38;5;241m.\u001b[39marray(k1\u001b[38;5;241m*\u001b[39mk2\u001b[38;5;241m*\u001b[39mk3)\u001b[38;5;241m*\u001b[39m\u001b[38;5;241m*\u001b[39m\u001b[38;5;241m2\u001b[39m\n\u001b[1;32m      3\u001b[0m b0 \u001b[38;5;241m=\u001b[39m [\u001b[38;5;241m1\u001b[39m,\u001b[38;5;241m1\u001b[39m,\u001b[38;5;241m1\u001b[39m,\u001b[38;5;241m1\u001b[39m,\u001b[38;5;241m1\u001b[39m]\n\u001b[0;32m----> 4\u001b[0m bopt, bcov \u001b[38;5;241m=\u001b[39m curve_fit(model,kg,bgn,b0,\u001b[38;5;241m1\u001b[39m\u001b[38;5;241m/\u001b[39mr,maxfev\u001b[38;5;241m=\u001b[39m\u001b[38;5;241m100000\u001b[39m)\n\u001b[1;32m      5\u001b[0m \u001b[38;5;28mprint\u001b[39m(bopt)\n",
      "File \u001b[0;32m~/anaconda3/envs/bispectrum/lib/python3.11/site-packages/scipy/optimize/_minpack_py.py:859\u001b[0m, in \u001b[0;36mcurve_fit\u001b[0;34m(f, xdata, ydata, p0, sigma, absolute_sigma, check_finite, bounds, method, jac, full_output, **kwargs)\u001b[0m\n\u001b[1;32m    856\u001b[0m \u001b[38;5;28;01mif\u001b[39;00m ydata\u001b[38;5;241m.\u001b[39msize \u001b[38;5;241m!=\u001b[39m \u001b[38;5;241m1\u001b[39m \u001b[38;5;129;01mand\u001b[39;00m n \u001b[38;5;241m>\u001b[39m ydata\u001b[38;5;241m.\u001b[39msize:\n\u001b[1;32m    857\u001b[0m     \u001b[38;5;28;01mraise\u001b[39;00m \u001b[38;5;167;01mTypeError\u001b[39;00m(\u001b[38;5;124mf\u001b[39m\u001b[38;5;124m\"\u001b[39m\u001b[38;5;124mThe number of func parameters=\u001b[39m\u001b[38;5;132;01m{\u001b[39;00mn\u001b[38;5;132;01m}\u001b[39;00m\u001b[38;5;124m must not\u001b[39m\u001b[38;5;124m\"\u001b[39m\n\u001b[1;32m    858\u001b[0m                     \u001b[38;5;124mf\u001b[39m\u001b[38;5;124m\"\u001b[39m\u001b[38;5;124m exceed the number of data points=\u001b[39m\u001b[38;5;132;01m{\u001b[39;00mydata\u001b[38;5;241m.\u001b[39msize\u001b[38;5;132;01m}\u001b[39;00m\u001b[38;5;124m\"\u001b[39m)\n\u001b[0;32m--> 859\u001b[0m res \u001b[38;5;241m=\u001b[39m leastsq(func, p0, Dfun\u001b[38;5;241m=\u001b[39mjac, full_output\u001b[38;5;241m=\u001b[39m\u001b[38;5;241m1\u001b[39m, \u001b[38;5;241m*\u001b[39m\u001b[38;5;241m*\u001b[39mkwargs)\n\u001b[1;32m    860\u001b[0m popt, pcov, infodict, errmsg, ier \u001b[38;5;241m=\u001b[39m res\n\u001b[1;32m    861\u001b[0m ysize \u001b[38;5;241m=\u001b[39m \u001b[38;5;28mlen\u001b[39m(infodict[\u001b[38;5;124m'\u001b[39m\u001b[38;5;124mfvec\u001b[39m\u001b[38;5;124m'\u001b[39m])\n",
      "File \u001b[0;32m~/anaconda3/envs/bispectrum/lib/python3.11/site-packages/scipy/optimize/_minpack_py.py:426\u001b[0m, in \u001b[0;36mleastsq\u001b[0;34m(func, x0, args, Dfun, full_output, col_deriv, ftol, xtol, gtol, maxfev, epsfcn, factor, diag)\u001b[0m\n\u001b[1;32m    424\u001b[0m     \u001b[38;5;28;01mif\u001b[39;00m maxfev \u001b[38;5;241m==\u001b[39m \u001b[38;5;241m0\u001b[39m:\n\u001b[1;32m    425\u001b[0m         maxfev \u001b[38;5;241m=\u001b[39m \u001b[38;5;241m200\u001b[39m\u001b[38;5;241m*\u001b[39m(n \u001b[38;5;241m+\u001b[39m \u001b[38;5;241m1\u001b[39m)\n\u001b[0;32m--> 426\u001b[0m     retval \u001b[38;5;241m=\u001b[39m _minpack\u001b[38;5;241m.\u001b[39m_lmdif(func, x0, args, full_output, ftol, xtol,\n\u001b[1;32m    427\u001b[0m                              gtol, maxfev, epsfcn, factor, diag)\n\u001b[1;32m    428\u001b[0m \u001b[38;5;28;01melse\u001b[39;00m:\n\u001b[1;32m    429\u001b[0m     \u001b[38;5;28;01mif\u001b[39;00m col_deriv:\n",
      "File \u001b[0;32m~/anaconda3/envs/bispectrum/lib/python3.11/site-packages/scipy/optimize/_minpack_py.py:504\u001b[0m, in \u001b[0;36m_wrap_func.<locals>.func_wrapped\u001b[0;34m(params)\u001b[0m\n\u001b[1;32m    503\u001b[0m \u001b[38;5;28;01mdef\u001b[39;00m \u001b[38;5;21mfunc_wrapped\u001b[39m(params):\n\u001b[0;32m--> 504\u001b[0m     \u001b[38;5;28;01mreturn\u001b[39;00m transform \u001b[38;5;241m*\u001b[39m (func(xdata, \u001b[38;5;241m*\u001b[39mparams) \u001b[38;5;241m-\u001b[39m ydata)\n",
      "Cell \u001b[0;32mIn[28], line 64\u001b[0m, in \u001b[0;36mmodel\u001b[0;34m(kk, *args)\u001b[0m\n\u001b[1;32m     61\u001b[0m pkn12\u001b[38;5;241m=\u001b[39mnp\u001b[38;5;241m.\u001b[39minterp(kk[:,\u001b[38;5;241m1\u001b[39m],k,pknm)\n\u001b[1;32m     62\u001b[0m pkn13\u001b[38;5;241m=\u001b[39mnp\u001b[38;5;241m.\u001b[39minterp(kk[:,\u001b[38;5;241m2\u001b[39m],k,pknm)\n\u001b[0;32m---> 64\u001b[0m res \u001b[38;5;241m=\u001b[39m Bi_wiggle(kk,pk1,pk2,pk3,pkn1,pkn2,pkn3,f,b1,b2,S0,S1)\u001b[38;5;241m*\u001b[39mBi0(kk,pkn11,pkn12,pkn13,f,b1,b2,S0,S1)\n\u001b[1;32m     65\u001b[0m \u001b[38;5;28;01mreturn\u001b[39;00m res\n",
      "File \u001b[0;32m/global/u1/s/shreeb/BAO_bispectrum/my_utils/utils.py:132\u001b[0m, in \u001b[0;36mBi_wiggle\u001b[0;34m(kk, pk1, pk2, pk3, pkn1, pkn2, pkn3, f, b1, b2, S0, S1)\u001b[0m\n\u001b[1;32m    124\u001b[0m \u001b[38;5;28;01mdef\u001b[39;00m \u001b[38;5;21mBi_wiggle\u001b[39m(kk,pk1,pk2,pk3,pkn1,pkn2,pkn3,f,b1,b2,S0,S1):\n\u001b[1;32m    125\u001b[0m     \u001b[38;5;124;03m'''\u001b[39;00m\n\u001b[1;32m    126\u001b[0m \u001b[38;5;124;03m    pkm - full mean power spectrum\u001b[39;00m\n\u001b[1;32m    127\u001b[0m \u001b[38;5;124;03m    pknm - nobao/smooth mean power spectrum\u001b[39;00m\n\u001b[0;32m   (...)\u001b[0m\n\u001b[1;32m    130\u001b[0m \u001b[38;5;124;03m    f,b1,b2 - free parameters\u001b[39;00m\n\u001b[1;32m    131\u001b[0m \u001b[38;5;124;03m    '''\u001b[39;00m\n\u001b[0;32m--> 132\u001b[0m     B_full \u001b[38;5;241m=\u001b[39m Bi0(kk,pk1,pk2,pk3,f,b1,b2,S0,S1)\n\u001b[1;32m    133\u001b[0m     B_nbao \u001b[38;5;241m=\u001b[39m Bi0(kk,pkn1,pkn2,pkn3,f,b1,b2,S0,S1)\n\u001b[1;32m    134\u001b[0m     B_wig \u001b[38;5;241m=\u001b[39m np\u001b[38;5;241m.\u001b[39marray(B_full)\u001b[38;5;241m/\u001b[39mnp\u001b[38;5;241m.\u001b[39marray(B_nbao)\n",
      "File \u001b[0;32m/global/u1/s/shreeb/BAO_bispectrum/my_utils/utils.py:119\u001b[0m, in \u001b[0;36mBi0\u001b[0;34m(kk, pk1, pk2, pk3, f, b1, b2, S0, S1)\u001b[0m\n\u001b[1;32m    117\u001b[0m \u001b[38;5;28;01mfor\u001b[39;00m i \u001b[38;5;129;01min\u001b[39;00m \u001b[38;5;28mrange\u001b[39m(\u001b[38;5;28mlen\u001b[39m(k1)):\n\u001b[1;32m    118\u001b[0m     func \u001b[38;5;241m=\u001b[39m \u001b[38;5;28;01mlambda\u001b[39;00m phi12,mu1: Bisp((k1[i],k2[i],k3[i],mu1,phi12), parc,pk1[i],pk2[i],pk3[i])\n\u001b[0;32m--> 119\u001b[0m     ans,_ \u001b[38;5;241m=\u001b[39m integrate\u001b[38;5;241m.\u001b[39mdblquad(func, \u001b[38;5;241m-\u001b[39m\u001b[38;5;241m1\u001b[39m, \u001b[38;5;241m1\u001b[39m, \u001b[38;5;28;01mlambda\u001b[39;00m x: \u001b[38;5;241m0\u001b[39m, \u001b[38;5;28;01mlambda\u001b[39;00m x: np\u001b[38;5;241m.\u001b[39mpi)\n\u001b[1;32m    120\u001b[0m     ans \u001b[38;5;241m=\u001b[39m ans \u001b[38;5;241m+\u001b[39m S0 \u001b[38;5;241m+\u001b[39m S1 \u001b[38;5;241m*\u001b[39m (pk1[i] \u001b[38;5;241m+\u001b[39m pk2[i] \u001b[38;5;241m+\u001b[39m pk3[i]) \u001b[38;5;66;03m# Add extra nuissance params. This term is not a part of scoccimaro equation. Skip this step if you want to use only scoccimaro eq.\u001b[39;00m\n\u001b[1;32m    121\u001b[0m     out\u001b[38;5;241m.\u001b[39mappend(\u001b[38;5;241m2\u001b[39m\u001b[38;5;241m*\u001b[39mY00\u001b[38;5;241m*\u001b[39mans)\n",
      "File \u001b[0;32m~/anaconda3/envs/bispectrum/lib/python3.11/site-packages/scipy/integrate/_quadpack_py.py:771\u001b[0m, in \u001b[0;36mdblquad\u001b[0;34m(func, a, b, gfun, hfun, args, epsabs, epsrel)\u001b[0m\n\u001b[1;32m    767\u001b[0m \u001b[38;5;28;01mdef\u001b[39;00m \u001b[38;5;21mtemp_ranges\u001b[39m(\u001b[38;5;241m*\u001b[39margs):\n\u001b[1;32m    768\u001b[0m     \u001b[38;5;28;01mreturn\u001b[39;00m [gfun(args[\u001b[38;5;241m0\u001b[39m]) \u001b[38;5;28;01mif\u001b[39;00m callable(gfun) \u001b[38;5;28;01melse\u001b[39;00m gfun,\n\u001b[1;32m    769\u001b[0m             hfun(args[\u001b[38;5;241m0\u001b[39m]) \u001b[38;5;28;01mif\u001b[39;00m callable(hfun) \u001b[38;5;28;01melse\u001b[39;00m hfun]\n\u001b[0;32m--> 771\u001b[0m \u001b[38;5;28;01mreturn\u001b[39;00m nquad(func, [temp_ranges, [a, b]], args\u001b[38;5;241m=\u001b[39margs,\n\u001b[1;32m    772\u001b[0m         opts\u001b[38;5;241m=\u001b[39m{\u001b[38;5;124m\"\u001b[39m\u001b[38;5;124mepsabs\u001b[39m\u001b[38;5;124m\"\u001b[39m: epsabs, \u001b[38;5;124m\"\u001b[39m\u001b[38;5;124mepsrel\u001b[39m\u001b[38;5;124m\"\u001b[39m: epsrel})\n",
      "File \u001b[0;32m~/anaconda3/envs/bispectrum/lib/python3.11/site-packages/scipy/integrate/_quadpack_py.py:1171\u001b[0m, in \u001b[0;36mnquad\u001b[0;34m(func, ranges, args, opts, full_output)\u001b[0m\n\u001b[1;32m   1169\u001b[0m \u001b[38;5;28;01melse\u001b[39;00m:\n\u001b[1;32m   1170\u001b[0m     opts \u001b[38;5;241m=\u001b[39m [opt \u001b[38;5;28;01mif\u001b[39;00m callable(opt) \u001b[38;5;28;01melse\u001b[39;00m _OptFunc(opt) \u001b[38;5;28;01mfor\u001b[39;00m opt \u001b[38;5;129;01min\u001b[39;00m opts]\n\u001b[0;32m-> 1171\u001b[0m \u001b[38;5;28;01mreturn\u001b[39;00m _NQuad(func, ranges, opts, full_output)\u001b[38;5;241m.\u001b[39mintegrate(\u001b[38;5;241m*\u001b[39margs)\n",
      "File \u001b[0;32m~/anaconda3/envs/bispectrum/lib/python3.11/site-packages/scipy/integrate/_quadpack_py.py:1225\u001b[0m, in \u001b[0;36m_NQuad.integrate\u001b[0;34m(self, *args, **kwargs)\u001b[0m\n\u001b[1;32m   1223\u001b[0m \u001b[38;5;28;01melse\u001b[39;00m:\n\u001b[1;32m   1224\u001b[0m     f \u001b[38;5;241m=\u001b[39m partial(\u001b[38;5;28mself\u001b[39m\u001b[38;5;241m.\u001b[39mintegrate, depth\u001b[38;5;241m=\u001b[39mdepth\u001b[38;5;241m+\u001b[39m\u001b[38;5;241m1\u001b[39m)\n\u001b[0;32m-> 1225\u001b[0m quad_r \u001b[38;5;241m=\u001b[39m quad(f, low, high, args\u001b[38;5;241m=\u001b[39margs, full_output\u001b[38;5;241m=\u001b[39m\u001b[38;5;28mself\u001b[39m\u001b[38;5;241m.\u001b[39mfull_output,\n\u001b[1;32m   1226\u001b[0m               \u001b[38;5;241m*\u001b[39m\u001b[38;5;241m*\u001b[39mopt)\n\u001b[1;32m   1227\u001b[0m value \u001b[38;5;241m=\u001b[39m quad_r[\u001b[38;5;241m0\u001b[39m]\n\u001b[1;32m   1228\u001b[0m abserr \u001b[38;5;241m=\u001b[39m quad_r[\u001b[38;5;241m1\u001b[39m]\n",
      "File \u001b[0;32m~/anaconda3/envs/bispectrum/lib/python3.11/site-packages/scipy/integrate/_quadpack_py.py:463\u001b[0m, in \u001b[0;36mquad\u001b[0;34m(func, a, b, args, full_output, epsabs, epsrel, limit, points, weight, wvar, wopts, maxp1, limlst, complex_func)\u001b[0m\n\u001b[1;32m    460\u001b[0m     \u001b[38;5;28;01mreturn\u001b[39;00m retval\n\u001b[1;32m    462\u001b[0m \u001b[38;5;28;01mif\u001b[39;00m weight \u001b[38;5;129;01mis\u001b[39;00m \u001b[38;5;28;01mNone\u001b[39;00m:\n\u001b[0;32m--> 463\u001b[0m     retval \u001b[38;5;241m=\u001b[39m _quad(func, a, b, args, full_output, epsabs, epsrel, limit,\n\u001b[1;32m    464\u001b[0m                    points)\n\u001b[1;32m    465\u001b[0m \u001b[38;5;28;01melse\u001b[39;00m:\n\u001b[1;32m    466\u001b[0m     \u001b[38;5;28;01mif\u001b[39;00m points \u001b[38;5;129;01mis\u001b[39;00m \u001b[38;5;129;01mnot\u001b[39;00m \u001b[38;5;28;01mNone\u001b[39;00m:\n",
      "File \u001b[0;32m~/anaconda3/envs/bispectrum/lib/python3.11/site-packages/scipy/integrate/_quadpack_py.py:575\u001b[0m, in \u001b[0;36m_quad\u001b[0;34m(func, a, b, args, full_output, epsabs, epsrel, limit, points)\u001b[0m\n\u001b[1;32m    573\u001b[0m \u001b[38;5;28;01mif\u001b[39;00m points \u001b[38;5;129;01mis\u001b[39;00m \u001b[38;5;28;01mNone\u001b[39;00m:\n\u001b[1;32m    574\u001b[0m     \u001b[38;5;28;01mif\u001b[39;00m infbounds \u001b[38;5;241m==\u001b[39m \u001b[38;5;241m0\u001b[39m:\n\u001b[0;32m--> 575\u001b[0m         \u001b[38;5;28;01mreturn\u001b[39;00m _quadpack\u001b[38;5;241m.\u001b[39m_qagse(func,a,b,args,full_output,epsabs,epsrel,limit)\n\u001b[1;32m    576\u001b[0m     \u001b[38;5;28;01melse\u001b[39;00m:\n\u001b[1;32m    577\u001b[0m         \u001b[38;5;28;01mreturn\u001b[39;00m _quadpack\u001b[38;5;241m.\u001b[39m_qagie(func,bound,infbounds,args,full_output,epsabs,epsrel,limit)\n",
      "File \u001b[0;32m~/anaconda3/envs/bispectrum/lib/python3.11/site-packages/scipy/integrate/_quadpack_py.py:1225\u001b[0m, in \u001b[0;36m_NQuad.integrate\u001b[0;34m(self, *args, **kwargs)\u001b[0m\n\u001b[1;32m   1223\u001b[0m \u001b[38;5;28;01melse\u001b[39;00m:\n\u001b[1;32m   1224\u001b[0m     f \u001b[38;5;241m=\u001b[39m partial(\u001b[38;5;28mself\u001b[39m\u001b[38;5;241m.\u001b[39mintegrate, depth\u001b[38;5;241m=\u001b[39mdepth\u001b[38;5;241m+\u001b[39m\u001b[38;5;241m1\u001b[39m)\n\u001b[0;32m-> 1225\u001b[0m quad_r \u001b[38;5;241m=\u001b[39m quad(f, low, high, args\u001b[38;5;241m=\u001b[39margs, full_output\u001b[38;5;241m=\u001b[39m\u001b[38;5;28mself\u001b[39m\u001b[38;5;241m.\u001b[39mfull_output,\n\u001b[1;32m   1226\u001b[0m               \u001b[38;5;241m*\u001b[39m\u001b[38;5;241m*\u001b[39mopt)\n\u001b[1;32m   1227\u001b[0m value \u001b[38;5;241m=\u001b[39m quad_r[\u001b[38;5;241m0\u001b[39m]\n\u001b[1;32m   1228\u001b[0m abserr \u001b[38;5;241m=\u001b[39m quad_r[\u001b[38;5;241m1\u001b[39m]\n",
      "File \u001b[0;32m~/anaconda3/envs/bispectrum/lib/python3.11/site-packages/scipy/integrate/_quadpack_py.py:23\u001b[0m, in \u001b[0;36mquad\u001b[0;34m(func, a, b, args, full_output, epsabs, epsrel, limit, points, weight, wvar, wopts, maxp1, limlst, complex_func)\u001b[0m\n\u001b[1;32m     17\u001b[0m     \u001b[38;5;124;03m\"\"\"\u001b[39;00m\n\u001b[1;32m     18\u001b[0m \u001b[38;5;124;03m    Warning on issues during integration.\u001b[39;00m\n\u001b[1;32m     19\u001b[0m \u001b[38;5;124;03m    \"\"\"\u001b[39;00m\n\u001b[1;32m     20\u001b[0m     \u001b[38;5;28;01mpass\u001b[39;00m\n\u001b[0;32m---> 23\u001b[0m \u001b[38;5;28;01mdef\u001b[39;00m \u001b[38;5;21mquad\u001b[39m(func, a, b, args\u001b[38;5;241m=\u001b[39m(), full_output\u001b[38;5;241m=\u001b[39m\u001b[38;5;241m0\u001b[39m, epsabs\u001b[38;5;241m=\u001b[39m\u001b[38;5;241m1.49e-8\u001b[39m, epsrel\u001b[38;5;241m=\u001b[39m\u001b[38;5;241m1.49e-8\u001b[39m,\n\u001b[1;32m     24\u001b[0m          limit\u001b[38;5;241m=\u001b[39m\u001b[38;5;241m50\u001b[39m, points\u001b[38;5;241m=\u001b[39m\u001b[38;5;28;01mNone\u001b[39;00m, weight\u001b[38;5;241m=\u001b[39m\u001b[38;5;28;01mNone\u001b[39;00m, wvar\u001b[38;5;241m=\u001b[39m\u001b[38;5;28;01mNone\u001b[39;00m, wopts\u001b[38;5;241m=\u001b[39m\u001b[38;5;28;01mNone\u001b[39;00m, maxp1\u001b[38;5;241m=\u001b[39m\u001b[38;5;241m50\u001b[39m,\n\u001b[1;32m     25\u001b[0m          limlst\u001b[38;5;241m=\u001b[39m\u001b[38;5;241m50\u001b[39m, complex_func\u001b[38;5;241m=\u001b[39m\u001b[38;5;28;01mFalse\u001b[39;00m):\n\u001b[1;32m     26\u001b[0m     \u001b[38;5;124;03m\"\"\"\u001b[39;00m\n\u001b[1;32m     27\u001b[0m \u001b[38;5;124;03m    Compute a definite integral.\u001b[39;00m\n\u001b[1;32m     28\u001b[0m \n\u001b[0;32m   (...)\u001b[0m\n\u001b[1;32m    430\u001b[0m \n\u001b[1;32m    431\u001b[0m \u001b[38;5;124;03m    \"\"\"\u001b[39;00m\n\u001b[1;32m    432\u001b[0m     \u001b[38;5;28;01mif\u001b[39;00m \u001b[38;5;129;01mnot\u001b[39;00m \u001b[38;5;28misinstance\u001b[39m(args, \u001b[38;5;28mtuple\u001b[39m):\n",
      "\u001b[0;31mKeyboardInterrupt\u001b[0m: "
     ]
    }
   ],
   "source": [
    "k1,k2,k3=kg[:,0],kg[:,1],kg[:,2]\n",
    "r=np.array(k1*k2*k3)**2\n",
    "b0 = [1,1,1,1,1]\n",
    "bopt, bcov = curve_fit(model,kg,bgn,b0,1/r,maxfev=100000)\n",
    "print(bopt)"
   ]
  },
  {
   "cell_type": "code",
   "execution_count": null,
   "metadata": {},
   "outputs": [],
   "source": [
    "# bopt = [-3.33487041e-02 ,5.86745432e-01 ,-7.45187795e-02 , 6.25950689e+04, 1.02927432e-01] #ELGs\n",
    "# bopt = [ 6.39831982e-03 , 1.05501348e+00 , 1.49932843e+00 , 8.72775638e+02, -1.53462242e+01] #LRGs\n",
    "plt.plot(bgn)\n",
    "plt.plot(model(kg,*bopt))"
   ]
  },
  {
   "cell_type": "code",
   "execution_count": null,
   "metadata": {},
   "outputs": [],
   "source": [
    "pkf,fpk,pkn,bfull,bsmooth,bwiggle = get_smooth(kk,pkm,*bopt)"
   ]
  },
  {
   "cell_type": "code",
   "execution_count": null,
   "metadata": {},
   "outputs": [],
   "source": [
    "plt.plot(bkm/bsmooth,label = \"true full / best-fit smooth\")\n",
    "plt.plot(bfull/bsmooth,label = \"best-fit full / best-fit smooth\")\n",
    "\n",
    "plt.legend()\n",
    "# plt.plot(bwiggle)\n",
    "plt.ylim(0,2)"
   ]
  },
  {
   "cell_type": "code",
   "execution_count": 27,
   "metadata": {},
   "outputs": [
    {
     "name": "stdout",
     "output_type": "stream",
     "text": [
      "pk_QSOz2_5018.txt bk_QSOz2_5018.txt (30, 3) (2600, 6)\n",
      "pk_QSOz2_5010.txt bk_QSOz2_5010.txt (30, 3) (2600, 6)\n",
      "pk_QSOz2_5011.txt bk_QSOz2_5011.txt (30, 3) (2600, 6)\n",
      "pk_QSOz2_5004.txt bk_QSOz2_5004.txt (30, 3) (2600, 6)\n",
      "pk_QSOz2_5012.txt bk_QSOz2_5012.txt (30, 3) (2600, 6)\n",
      "pk_QSOz2_5001.txt bk_QSOz2_5001.txt (30, 3) (2600, 6)\n",
      "pk_QSOz2_5019.txt bk_QSOz2_5019.txt (30, 3) (2600, 6)\n",
      "pk_QSOz2_5008.txt bk_QSOz2_5008.txt (30, 3) (2600, 6)\n",
      "pk_QSOz2_5017.txt bk_QSOz2_5017.txt (30, 3) (2600, 6)\n",
      "pk_QSOz2_5022.txt bk_QSOz2_5022.txt (30, 3) (2600, 6)\n",
      "pk_QSOz2_5013.txt bk_QSOz2_5013.txt (30, 3) (2600, 6)\n",
      "pk_QSOz2_5014.txt bk_QSOz2_5014.txt (30, 3) (2600, 6)\n",
      "pk_QSOz2_5024.txt bk_QSOz2_5024.txt (30, 3) (2600, 6)\n",
      "pk_QSOz2_5023.txt bk_QSOz2_5023.txt (30, 3) (2600, 6)\n",
      "pk_QSOz2_5007.txt bk_QSOz2_5007.txt (30, 3) (2600, 6)\n",
      "pk_QSOz2_5000.txt bk_QSOz2_5000.txt (30, 3) (2600, 6)\n",
      "pk_QSOz2_5020.txt bk_QSOz2_5020.txt (30, 3) (2600, 6)\n",
      "pk_QSOz2_5015.txt bk_QSOz2_5015.txt (30, 3) (2600, 6)\n",
      "pk_QSOz2_5005.txt bk_QSOz2_5005.txt (30, 3) (2600, 6)\n",
      "pk_QSOz2_5021.txt bk_QSOz2_5021.txt (30, 3) (2600, 6)\n",
      "pk_QSOz2_5006.txt bk_QSOz2_5006.txt (30, 3) (2600, 6)\n",
      "pk_QSOz2_5002.txt bk_QSOz2_5002.txt (30, 3) (2600, 6)\n",
      "pk_QSOz2_5003.txt bk_QSOz2_5003.txt (30, 3) (2600, 6)\n",
      "pk_QSOz2_5016.txt bk_QSOz2_5016.txt (30, 3) (2600, 6)\n",
      "pk_QSOz2_5009.txt bk_QSOz2_5009.txt (30, 3) (2600, 6)\n",
      "25\n"
     ]
    }
   ],
   "source": [
    "get_smooth_all(kk,pk,*bopt)"
   ]
  },
  {
   "cell_type": "code",
   "execution_count": 25,
   "metadata": {},
   "outputs": [],
   "source": [
    "pkf,fpk,pkn,bfull,bsmooth,bwiggle = get_smooth(kk,pk[:,1],*bopt)"
   ]
  },
  {
   "cell_type": "code",
   "execution_count": 26,
   "metadata": {},
   "outputs": [
    {
     "data": {
      "text/plain": [
       "(0.0, 2.0)"
      ]
     },
     "execution_count": 26,
     "metadata": {},
     "output_type": "execute_result"
    },
    {
     "data": {
      "image/png": "[encoded data removed]",
      "text/plain": [
       "<Figure size 432x288 with 1 Axes>"
      ]
     },
     "metadata": {
      "needs_background": "light"
     },
     "output_type": "display_data"
    }
   ],
   "source": [
    "plt.plot(bk[:,0]/bsmooth)\n",
    "# plt.plot(pkf/pkn)\n",
    "plt.ylim(0,2)"
   ]
  },
  {
   "cell_type": "markdown",
   "metadata": {},
   "source": [
    "# Get best fit values from a mcmc chain"
   ]
  },
  {
   "cell_type": "code",
   "execution_count": 3,
   "metadata": {},
   "outputs": [],
   "source": [
    "import emcee\n",
    "import corner\n",
    "import matplotlib.pyplot as plt\n",
    "from getdist import plots, MCSamples\n",
    "import getdist\n",
    "import IPython\n",
    "import numpy as np\n",
    "import os\n",
    "from pathlib import Path\n",
    "from astropy.cosmology import FlatLambdaCDM\n",
    "\n",
    "%matplotlib inline"
   ]
  },
  {
   "cell_type": "code",
   "execution_count": 230,
   "metadata": {},
   "outputs": [],
   "source": [
    "\n",
    "\n",
    "# reader = emcee.backends.HDFBackend(\"/global/homes/s/shreeb/Project1/nobao_project/mcmc_results/mcmc_camb_64001419_matterpower_z0.5_0009.h5\",read_only=True)\n",
    "# flat_samples = reader.get_chain(discard=300, thin=15, flat=True)\n",
    "# alpha_mo = np.mean(flat_samples[:,0])"
   ]
  },
  {
   "cell_type": "code",
   "execution_count": 30,
   "metadata": {},
   "outputs": [],
   "source": [
    "info_path = \"/global/homes/s/shreeb/Project1/nobao_project/data/camb_new/camb_python_info/\"\n",
    "mcmc_path = \"/global/homes/s/shreeb/Project1/nobao_project/beocat_mcmc_results/mcmc_results_new/\"\n",
    "\n",
    "z = 0.5\n",
    "cglam = FlatLambdaCDM(H0=67.77, Om0=0.307)\n",
    "dglam = cglam.comoving_distance(z)\n",
    "rsglam = 147.82\n",
    "\n",
    "all_H0 = []\n",
    "all_Om0 = []\n",
    "all_errors = []\n",
    "\n",
    "# list_H0 = np.linspace(64,72,10)\n",
    "# list_omch2 = np.linspace(0.112,0.142,10)\n",
    "\n",
    "list_H0 = np.linspace(67.77-2.5,67.77+2.5,11)\n",
    "list_Om = np.linspace(0.307-0.03,0.307+0.03,11)\n",
    "X, Y = np.meshgrid(list_H0, list_Om)\n",
    "\n",
    "Z = np.zeros((11,11))\n",
    "\n",
    "for i in range(11):\n",
    "    for j in range(11):\n",
    "        h0 = list_H0[i]\n",
    "        om=list_Om[j]\n",
    "        ombh = 0.04825*(h0/100)**2\n",
    "        omch = (om-0.04825)*(h0/100)**2\n",
    "        match = f\"{int(h0*100)}{int(om*10000)}\" \n",
    "        #print(h0, om, omch)\n",
    "        for file in os.listdir(mcmc_path):\n",
    "            name = Path(file).stem\n",
    "            index = name[10:18]\n",
    "            if index != \"ints\":\n",
    "                if index == match:\n",
    "                    #print(index,match)\n",
    "                    info_name = \"info\"+name[5:]+\".npy\"\n",
    "                    info = np.load(info_path + info_name, allow_pickle = True)\n",
    "                    rscamb = info.item()['rdrag']\n",
    "                    # H0 = int(name[10:12])+int(name[12:14])/100\n",
    "                    # omch2 = int(name[14:18])/10000\n",
    "                    # ombh2 = 0.04825*(H0/100)**2\n",
    "                    # Om0 = (ombh2+omch2)/((H0/100)**2)\n",
    "                    #print(H0,omch2,Om0)\n",
    "                    ccamb = FlatLambdaCDM(H0=h0, Om0=om)\n",
    "                    dcamb = ccamb.comoving_distance(z)\n",
    "\n",
    "                    #print(dcamb)\n",
    "                    alpha_true = (dcamb/rscamb)/(dglam/rsglam)\n",
    "\n",
    "\n",
    "                    reader = emcee.backends.HDFBackend(mcmc_path + file,read_only=True)\n",
    "                    flat_samples = reader.get_chain(discard=500, thin=15, flat=True)\n",
    "                    alpha_model = np.mean(flat_samples[:,0])\n",
    "\n",
    "                    error = (np.abs(alpha_true-alpha_model)/alpha_true)*100\n",
    "\n",
    "                    all_H0.append(h0)\n",
    "                    all_Om0.append(om)\n",
    "                    all_errors.append(error)\n",
    "                    Z[i,j]=error\n",
    "                    #print(H0,Om0,error)"
   ]
  },
  {
   "cell_type": "code",
   "execution_count": 31,
   "metadata": {},
   "outputs": [
    {
     "data": {
      "image/png": "[encoded data removed]",
      "text/plain": [
       "<Figure size 432x288 with 2 Axes>"
      ]
     },
     "metadata": {
      "needs_background": "light"
     },
     "output_type": "display_data"
    }
   ],
   "source": [
    "plt.contourf(X, Y, Z, 20, cmap='RdGy')\n",
    "plt.colorbar();\n"
   ]
  },
  {
   "cell_type": "code",
   "execution_count": 32,
   "metadata": {},
   "outputs": [],
   "source": [
    "# info_path = \"/global/homes/s/shreeb/Project1/nobao_project/data/camb_python_info/\"\n",
    "# mcmc_path = \"/global/homes/s/shreeb/Project1/nobao_project/beocat_mcmc_results/mcmc_results/\"\n",
    "\n",
    "# z = 0.5\n",
    "# cglam = FlatLambdaCDM(H0=67.77, Om0=0.307)\n",
    "# dglam = cglam.comoving_distance(z)\n",
    "# rsglam = 147.82\n",
    "# #ind = np.arange(0,66)\n",
    "\n",
    "# all_H0 = []\n",
    "# all_Om0 = []\n",
    "# all_errors = []\n",
    "\n",
    "# list_H0 = np.linspace(64,72,10)\n",
    "# list_omch2 = np.linspace(0.112,0.142,10)\n",
    "\n",
    "# for file in os.listdir(mcmc_path):\n",
    "#     name = Path(file).stem\n",
    "#     index = name[-4:]\n",
    "#     if index != \"ints\":\n",
    "#         if int(index) == ind:\n",
    "#             print(file)\n",
    "#             info_name = \"info\"+name[5:]+\".npy\"\n",
    "#             info = np.load(info_path + info_name, allow_pickle = True)\n",
    "#             rscamb = info.item()['rdrag']\n",
    "#             H0 = int(name[10:12])+int(name[12:14])/100\n",
    "#             omch2 = int(name[14:18])/10000\n",
    "#             ombh2 = 0.04825*(H0/100)**2\n",
    "#             Om0 = (ombh2+omch2)/((H0/100)**2)\n",
    "#             #print(H0,omch2,Om0)\n",
    "#             ccamb = FlatLambdaCDM(H0=H0, Om0=Om0)\n",
    "#             dcamb = ccamb.comoving_distance(z)\n",
    "            \n",
    "#             #print(dcamb)\n",
    "#             alpha_true = (dcamb/rscamb)/(dglam/rsglam)\n",
    "            \n",
    "            \n",
    "#             reader = emcee.backends.HDFBackend(mcmc_path + file,read_only=True)\n",
    "#             flat_samples = reader.get_chain(discard=300, thin=15, flat=True)\n",
    "#             alpha_model = np.mean(flat_samples[:,0])\n",
    "            \n",
    "#             error = (np.abs(alpha_true-alpha_model)/alpha_true)*100\n",
    "            \n",
    "#             all_H0.append(H0)\n",
    "#             all_Om0.append(Om0)\n",
    "#             all_errors.append(error)\n",
    "#             #print(H0,Om0,error)\n",
    "        "
   ]
  },
  {
   "cell_type": "code",
   "execution_count": 34,
   "metadata": {},
   "outputs": [
    {
     "data": {
      "text/plain": [
       "Text(0, 0.5, 'Omega_m')"
      ]
     },
     "execution_count": 34,
     "metadata": {},
     "output_type": "execute_result"
    },
    {
     "data": {
      "image/png": "[encoded data removed]",
      "text/plain": [
       "<Figure size 432x288 with 2 Axes>"
      ]
     },
     "metadata": {
      "needs_background": "light"
     },
     "output_type": "display_data"
    }
   ],
   "source": [
    "plt.scatter(np.array(all_H0)/100, all_Om0, s = 15, c = all_errors,cmap = \"gist_rainbow\")\n",
    "plt.colorbar()\n",
    "plt.scatter(0.6777,0.307, s = 200 , c= \"black\", marker = \"*\")\n",
    "plt.xlabel(\"h\")\n",
    "plt.ylabel(\"Omega_m\")\n"
   ]
  },
  {
   "cell_type": "code",
   "execution_count": 118,
   "metadata": {},
   "outputs": [
    {
     "ename": "TypeError",
     "evalue": "Input z must be 2D, not 1D",
     "output_type": "error",
     "traceback": [
      "\u001b[0;31m---------------------------------------------------------------------------\u001b[0m",
      "\u001b[0;31mTypeError\u001b[0m                                 Traceback (most recent call last)",
      "\u001b[0;32m/tmp/ipykernel_12500/3854600128.py\u001b[0m in \u001b[0;36m<module>\u001b[0;34m\u001b[0m\n\u001b[1;32m      1\u001b[0m \u001b[0mfig\u001b[0m\u001b[0;34m,\u001b[0m \u001b[0max\u001b[0m \u001b[0;34m=\u001b[0m \u001b[0mplt\u001b[0m\u001b[0;34m.\u001b[0m\u001b[0msubplots\u001b[0m\u001b[0;34m(\u001b[0m\u001b[0;34m)\u001b[0m\u001b[0;34m\u001b[0m\u001b[0;34m\u001b[0m\u001b[0m\n\u001b[0;32m----> 2\u001b[0;31m \u001b[0mCS\u001b[0m \u001b[0;34m=\u001b[0m \u001b[0max\u001b[0m\u001b[0;34m.\u001b[0m\u001b[0mcontour\u001b[0m\u001b[0;34m(\u001b[0m\u001b[0mnp\u001b[0m\u001b[0;34m.\u001b[0m\u001b[0marray\u001b[0m\u001b[0;34m(\u001b[0m\u001b[0mall_H0\u001b[0m\u001b[0;34m)\u001b[0m\u001b[0;34m/\u001b[0m\u001b[0;36m100\u001b[0m\u001b[0;34m,\u001b[0m \u001b[0mall_Om0\u001b[0m\u001b[0;34m,\u001b[0m \u001b[0mall_errors\u001b[0m\u001b[0;34m)\u001b[0m\u001b[0;34m\u001b[0m\u001b[0;34m\u001b[0m\u001b[0m\n\u001b[0m\u001b[1;32m      3\u001b[0m \u001b[0max\u001b[0m\u001b[0;34m.\u001b[0m\u001b[0mclabel\u001b[0m\u001b[0;34m(\u001b[0m\u001b[0mCS\u001b[0m\u001b[0;34m,\u001b[0m \u001b[0minline\u001b[0m\u001b[0;34m=\u001b[0m\u001b[0;32mTrue\u001b[0m\u001b[0;34m,\u001b[0m \u001b[0mfontsize\u001b[0m\u001b[0;34m=\u001b[0m\u001b[0;36m10\u001b[0m\u001b[0;34m)\u001b[0m\u001b[0;34m\u001b[0m\u001b[0;34m\u001b[0m\u001b[0m\n\u001b[1;32m      4\u001b[0m \u001b[0max\u001b[0m\u001b[0;34m.\u001b[0m\u001b[0mset_title\u001b[0m\u001b[0;34m(\u001b[0m\u001b[0;34m'Simplest default with labels'\u001b[0m\u001b[0;34m)\u001b[0m\u001b[0;34m\u001b[0m\u001b[0;34m\u001b[0m\u001b[0m\n",
      "\u001b[0;32m~/anaconda3/lib/python3.9/site-packages/matplotlib/__init__.py\u001b[0m in \u001b[0;36minner\u001b[0;34m(ax, data, *args, **kwargs)\u001b[0m\n\u001b[1;32m   1359\u001b[0m     \u001b[0;32mdef\u001b[0m \u001b[0minner\u001b[0m\u001b[0;34m(\u001b[0m\u001b[0max\u001b[0m\u001b[0;34m,\u001b[0m \u001b[0;34m*\u001b[0m\u001b[0margs\u001b[0m\u001b[0;34m,\u001b[0m \u001b[0mdata\u001b[0m\u001b[0;34m=\u001b[0m\u001b[0;32mNone\u001b[0m\u001b[0;34m,\u001b[0m \u001b[0;34m**\u001b[0m\u001b[0mkwargs\u001b[0m\u001b[0;34m)\u001b[0m\u001b[0;34m:\u001b[0m\u001b[0;34m\u001b[0m\u001b[0;34m\u001b[0m\u001b[0m\n\u001b[1;32m   1360\u001b[0m         \u001b[0;32mif\u001b[0m \u001b[0mdata\u001b[0m \u001b[0;32mis\u001b[0m \u001b[0;32mNone\u001b[0m\u001b[0;34m:\u001b[0m\u001b[0;34m\u001b[0m\u001b[0;34m\u001b[0m\u001b[0m\n\u001b[0;32m-> 1361\u001b[0;31m             \u001b[0;32mreturn\u001b[0m \u001b[0mfunc\u001b[0m\u001b[0;34m(\u001b[0m\u001b[0max\u001b[0m\u001b[0;34m,\u001b[0m \u001b[0;34m*\u001b[0m\u001b[0mmap\u001b[0m\u001b[0;34m(\u001b[0m\u001b[0msanitize_sequence\u001b[0m\u001b[0;34m,\u001b[0m \u001b[0margs\u001b[0m\u001b[0;34m)\u001b[0m\u001b[0;34m,\u001b[0m \u001b[0;34m**\u001b[0m\u001b[0mkwargs\u001b[0m\u001b[0;34m)\u001b[0m\u001b[0;34m\u001b[0m\u001b[0;34m\u001b[0m\u001b[0m\n\u001b[0m\u001b[1;32m   1362\u001b[0m \u001b[0;34m\u001b[0m\u001b[0m\n\u001b[1;32m   1363\u001b[0m         \u001b[0mbound\u001b[0m \u001b[0;34m=\u001b[0m \u001b[0mnew_sig\u001b[0m\u001b[0;34m.\u001b[0m\u001b[0mbind\u001b[0m\u001b[0;34m(\u001b[0m\u001b[0max\u001b[0m\u001b[0;34m,\u001b[0m \u001b[0;34m*\u001b[0m\u001b[0margs\u001b[0m\u001b[0;34m,\u001b[0m \u001b[0;34m**\u001b[0m\u001b[0mkwargs\u001b[0m\u001b[0;34m)\u001b[0m\u001b[0;34m\u001b[0m\u001b[0;34m\u001b[0m\u001b[0m\n",
      "\u001b[0;32m~/anaconda3/lib/python3.9/site-packages/matplotlib/axes/_axes.py\u001b[0m in \u001b[0;36mcontour\u001b[0;34m(self, *args, **kwargs)\u001b[0m\n\u001b[1;32m   6418\u001b[0m     \u001b[0;32mdef\u001b[0m \u001b[0mcontour\u001b[0m\u001b[0;34m(\u001b[0m\u001b[0mself\u001b[0m\u001b[0;34m,\u001b[0m \u001b[0;34m*\u001b[0m\u001b[0margs\u001b[0m\u001b[0;34m,\u001b[0m \u001b[0;34m**\u001b[0m\u001b[0mkwargs\u001b[0m\u001b[0;34m)\u001b[0m\u001b[0;34m:\u001b[0m\u001b[0;34m\u001b[0m\u001b[0;34m\u001b[0m\u001b[0m\n\u001b[1;32m   6419\u001b[0m         \u001b[0mkwargs\u001b[0m\u001b[0;34m[\u001b[0m\u001b[0;34m'filled'\u001b[0m\u001b[0;34m]\u001b[0m \u001b[0;34m=\u001b[0m \u001b[0;32mFalse\u001b[0m\u001b[0;34m\u001b[0m\u001b[0;34m\u001b[0m\u001b[0m\n\u001b[0;32m-> 6420\u001b[0;31m         \u001b[0mcontours\u001b[0m \u001b[0;34m=\u001b[0m \u001b[0mmcontour\u001b[0m\u001b[0;34m.\u001b[0m\u001b[0mQuadContourSet\u001b[0m\u001b[0;34m(\u001b[0m\u001b[0mself\u001b[0m\u001b[0;34m,\u001b[0m \u001b[0;34m*\u001b[0m\u001b[0margs\u001b[0m\u001b[0;34m,\u001b[0m \u001b[0;34m**\u001b[0m\u001b[0mkwargs\u001b[0m\u001b[0;34m)\u001b[0m\u001b[0;34m\u001b[0m\u001b[0;34m\u001b[0m\u001b[0m\n\u001b[0m\u001b[1;32m   6421\u001b[0m         \u001b[0mself\u001b[0m\u001b[0;34m.\u001b[0m\u001b[0m_request_autoscale_view\u001b[0m\u001b[0;34m(\u001b[0m\u001b[0;34m)\u001b[0m\u001b[0;34m\u001b[0m\u001b[0;34m\u001b[0m\u001b[0m\n\u001b[1;32m   6422\u001b[0m         \u001b[0;32mreturn\u001b[0m \u001b[0mcontours\u001b[0m\u001b[0;34m\u001b[0m\u001b[0;34m\u001b[0m\u001b[0m\n",
      "\u001b[0;32m~/anaconda3/lib/python3.9/site-packages/matplotlib/contour.py\u001b[0m in \u001b[0;36m__init__\u001b[0;34m(self, ax, levels, filled, linewidths, linestyles, hatches, alpha, origin, extent, cmap, colors, norm, vmin, vmax, extend, antialiased, nchunk, locator, transform, *args, **kwargs)\u001b[0m\n\u001b[1;32m    775\u001b[0m         \u001b[0mself\u001b[0m\u001b[0;34m.\u001b[0m\u001b[0m_transform\u001b[0m \u001b[0;34m=\u001b[0m \u001b[0mtransform\u001b[0m\u001b[0;34m\u001b[0m\u001b[0;34m\u001b[0m\u001b[0m\n\u001b[1;32m    776\u001b[0m \u001b[0;34m\u001b[0m\u001b[0m\n\u001b[0;32m--> 777\u001b[0;31m         \u001b[0mkwargs\u001b[0m \u001b[0;34m=\u001b[0m \u001b[0mself\u001b[0m\u001b[0;34m.\u001b[0m\u001b[0m_process_args\u001b[0m\u001b[0;34m(\u001b[0m\u001b[0;34m*\u001b[0m\u001b[0margs\u001b[0m\u001b[0;34m,\u001b[0m \u001b[0;34m**\u001b[0m\u001b[0mkwargs\u001b[0m\u001b[0;34m)\u001b[0m\u001b[0;34m\u001b[0m\u001b[0;34m\u001b[0m\u001b[0m\n\u001b[0m\u001b[1;32m    778\u001b[0m         \u001b[0mself\u001b[0m\u001b[0;34m.\u001b[0m\u001b[0m_process_levels\u001b[0m\u001b[0;34m(\u001b[0m\u001b[0;34m)\u001b[0m\u001b[0;34m\u001b[0m\u001b[0;34m\u001b[0m\u001b[0m\n\u001b[1;32m    779\u001b[0m \u001b[0;34m\u001b[0m\u001b[0m\n",
      "\u001b[0;32m~/anaconda3/lib/python3.9/site-packages/matplotlib/contour.py\u001b[0m in \u001b[0;36m_process_args\u001b[0;34m(self, corner_mask, *args, **kwargs)\u001b[0m\n\u001b[1;32m   1364\u001b[0m             \u001b[0mself\u001b[0m\u001b[0;34m.\u001b[0m\u001b[0m_corner_mask\u001b[0m \u001b[0;34m=\u001b[0m \u001b[0mcorner_mask\u001b[0m\u001b[0;34m\u001b[0m\u001b[0;34m\u001b[0m\u001b[0m\n\u001b[1;32m   1365\u001b[0m \u001b[0;34m\u001b[0m\u001b[0m\n\u001b[0;32m-> 1366\u001b[0;31m             \u001b[0mx\u001b[0m\u001b[0;34m,\u001b[0m \u001b[0my\u001b[0m\u001b[0;34m,\u001b[0m \u001b[0mz\u001b[0m \u001b[0;34m=\u001b[0m \u001b[0mself\u001b[0m\u001b[0;34m.\u001b[0m\u001b[0m_contour_args\u001b[0m\u001b[0;34m(\u001b[0m\u001b[0margs\u001b[0m\u001b[0;34m,\u001b[0m \u001b[0mkwargs\u001b[0m\u001b[0;34m)\u001b[0m\u001b[0;34m\u001b[0m\u001b[0;34m\u001b[0m\u001b[0m\n\u001b[0m\u001b[1;32m   1367\u001b[0m \u001b[0;34m\u001b[0m\u001b[0m\n\u001b[1;32m   1368\u001b[0m             \u001b[0m_mask\u001b[0m \u001b[0;34m=\u001b[0m \u001b[0mma\u001b[0m\u001b[0;34m.\u001b[0m\u001b[0mgetmask\u001b[0m\u001b[0;34m(\u001b[0m\u001b[0mz\u001b[0m\u001b[0;34m)\u001b[0m\u001b[0;34m\u001b[0m\u001b[0;34m\u001b[0m\u001b[0m\n",
      "\u001b[0;32m~/anaconda3/lib/python3.9/site-packages/matplotlib/contour.py\u001b[0m in \u001b[0;36m_contour_args\u001b[0;34m(self, args, kwargs)\u001b[0m\n\u001b[1;32m   1422\u001b[0m             \u001b[0margs\u001b[0m \u001b[0;34m=\u001b[0m \u001b[0margs\u001b[0m\u001b[0;34m[\u001b[0m\u001b[0;36m1\u001b[0m\u001b[0;34m:\u001b[0m\u001b[0;34m]\u001b[0m\u001b[0;34m\u001b[0m\u001b[0;34m\u001b[0m\u001b[0m\n\u001b[1;32m   1423\u001b[0m         \u001b[0;32melif\u001b[0m \u001b[0mNargs\u001b[0m \u001b[0;34m<=\u001b[0m \u001b[0;36m4\u001b[0m\u001b[0;34m:\u001b[0m\u001b[0;34m\u001b[0m\u001b[0;34m\u001b[0m\u001b[0m\n\u001b[0;32m-> 1424\u001b[0;31m             \u001b[0mx\u001b[0m\u001b[0;34m,\u001b[0m \u001b[0my\u001b[0m\u001b[0;34m,\u001b[0m \u001b[0mz\u001b[0m \u001b[0;34m=\u001b[0m \u001b[0mself\u001b[0m\u001b[0;34m.\u001b[0m\u001b[0m_check_xyz\u001b[0m\u001b[0;34m(\u001b[0m\u001b[0margs\u001b[0m\u001b[0;34m[\u001b[0m\u001b[0;34m:\u001b[0m\u001b[0;36m3\u001b[0m\u001b[0;34m]\u001b[0m\u001b[0;34m,\u001b[0m \u001b[0mkwargs\u001b[0m\u001b[0;34m)\u001b[0m\u001b[0;34m\u001b[0m\u001b[0;34m\u001b[0m\u001b[0m\n\u001b[0m\u001b[1;32m   1425\u001b[0m             \u001b[0margs\u001b[0m \u001b[0;34m=\u001b[0m \u001b[0margs\u001b[0m\u001b[0;34m[\u001b[0m\u001b[0;36m3\u001b[0m\u001b[0;34m:\u001b[0m\u001b[0;34m]\u001b[0m\u001b[0;34m\u001b[0m\u001b[0;34m\u001b[0m\u001b[0m\n\u001b[1;32m   1426\u001b[0m         \u001b[0;32melse\u001b[0m\u001b[0;34m:\u001b[0m\u001b[0;34m\u001b[0m\u001b[0;34m\u001b[0m\u001b[0m\n",
      "\u001b[0;32m~/anaconda3/lib/python3.9/site-packages/matplotlib/contour.py\u001b[0m in \u001b[0;36m_check_xyz\u001b[0;34m(self, args, kwargs)\u001b[0m\n\u001b[1;32m   1450\u001b[0m \u001b[0;34m\u001b[0m\u001b[0m\n\u001b[1;32m   1451\u001b[0m         \u001b[0;32mif\u001b[0m \u001b[0mz\u001b[0m\u001b[0;34m.\u001b[0m\u001b[0mndim\u001b[0m \u001b[0;34m!=\u001b[0m \u001b[0;36m2\u001b[0m\u001b[0;34m:\u001b[0m\u001b[0;34m\u001b[0m\u001b[0;34m\u001b[0m\u001b[0m\n\u001b[0;32m-> 1452\u001b[0;31m             \u001b[0;32mraise\u001b[0m \u001b[0mTypeError\u001b[0m\u001b[0;34m(\u001b[0m\u001b[0;34mf\"Input z must be 2D, not {z.ndim}D\"\u001b[0m\u001b[0;34m)\u001b[0m\u001b[0;34m\u001b[0m\u001b[0;34m\u001b[0m\u001b[0m\n\u001b[0m\u001b[1;32m   1453\u001b[0m         \u001b[0;32mif\u001b[0m \u001b[0mz\u001b[0m\u001b[0;34m.\u001b[0m\u001b[0mshape\u001b[0m\u001b[0;34m[\u001b[0m\u001b[0;36m0\u001b[0m\u001b[0;34m]\u001b[0m \u001b[0;34m<\u001b[0m \u001b[0;36m2\u001b[0m \u001b[0;32mor\u001b[0m \u001b[0mz\u001b[0m\u001b[0;34m.\u001b[0m\u001b[0mshape\u001b[0m\u001b[0;34m[\u001b[0m\u001b[0;36m1\u001b[0m\u001b[0;34m]\u001b[0m \u001b[0;34m<\u001b[0m \u001b[0;36m2\u001b[0m\u001b[0;34m:\u001b[0m\u001b[0;34m\u001b[0m\u001b[0;34m\u001b[0m\u001b[0m\n\u001b[1;32m   1454\u001b[0m             raise TypeError(f\"Input z must be at least a (2, 2) shaped array, \"\n",
      "\u001b[0;31mTypeError\u001b[0m: Input z must be 2D, not 1D"
     ]
    },
    {
     "data": {
      "image/png": "[encoded data removed]",
      "text/plain": [
       "<Figure size 432x288 with 1 Axes>"
      ]
     },
     "metadata": {
      "needs_background": "light"
     },
     "output_type": "display_data"
    }
   ],
   "source": [
    "fig, ax = plt.subplots()\n",
    "CS = ax.contour(np.array(all_H0)/100, all_Om0, all_errors)\n",
    "ax.clabel(CS, inline=True, fontsize=10)\n",
    "ax.set_title('Simplest default with labels')"
   ]
  },
  {
   "cell_type": "code",
   "execution_count": null,
   "metadata": {},
   "outputs": [],
   "source": []
  },
  {
   "cell_type": "code",
   "execution_count": 106,
   "metadata": {},
   "outputs": [
    {
     "data": {
      "text/plain": [
       "0.11883799878749998"
      ]
     },
     "execution_count": 106,
     "metadata": {},
     "output_type": "execute_result"
    }
   ],
   "source": [
    "(0.307 - 0.04825)*0.6777**2"
   ]
  },
  {
   "cell_type": "code",
   "execution_count": 110,
   "metadata": {},
   "outputs": [
    {
     "data": {
      "text/plain": [
       "0.112"
      ]
     },
     "execution_count": 110,
     "metadata": {},
     "output_type": "execute_result"
    }
   ],
   "source": [
    "min(all_Om0)"
   ]
  },
  {
   "cell_type": "markdown",
   "metadata": {},
   "source": [
    "# Get true alpha and compare to best fit alpha : using ASTROPY"
   ]
  },
  {
   "cell_type": "code",
   "execution_count": 10,
   "metadata": {},
   "outputs": [],
   "source": [
    "from astropy.cosmology import FlatLambdaCDM\n",
    "z = 0.5\n",
    "H0 = 70\n",
    "Om0 = 0.287306\n",
    "ccamb = FlatLambdaCDM(H0=H0, Om0= Om0)\n",
    "cglam = FlatLambdaCDM(H0=67.77, Om0=0.307)\n",
    "\n",
    "rsglam = 147.82\n",
    "rscamb = 147.50"
   ]
  },
  {
   "cell_type": "code",
   "execution_count": 11,
   "metadata": {},
   "outputs": [],
   "source": [
    "dcamb = ccamb.comoving_distance(z)\n",
    "dglam = cglam.comoving_distance(z)"
   ]
  },
  {
   "cell_type": "code",
   "execution_count": 12,
   "metadata": {},
   "outputs": [
    {
     "data": {
      "text/latex": [
       "$1897.0098 \\; \\mathrm{Mpc}$"
      ],
      "text/plain": [
       "<Quantity 1897.00982543 Mpc>"
      ]
     },
     "execution_count": 12,
     "metadata": {},
     "output_type": "execute_result"
    }
   ],
   "source": [
    "dcamb"
   ]
  },
  {
   "cell_type": "code",
   "execution_count": 20,
   "metadata": {},
   "outputs": [],
   "source": [
    "alpha = (dcamb/rscamb)/(dglam/rsglam)"
   ]
  },
  {
   "cell_type": "code",
   "execution_count": 21,
   "metadata": {},
   "outputs": [
    {
     "data": {
      "text/latex": [
       "$0.97690945 \\; \\mathrm{}$"
      ],
      "text/plain": [
       "<Quantity 0.97690945>"
      ]
     },
     "execution_count": 21,
     "metadata": {},
     "output_type": "execute_result"
    }
   ],
   "source": [
    "alpha"
   ]
  },
  {
   "cell_type": "code",
   "execution_count": 38,
   "metadata": {},
   "outputs": [
    {
     "data": {
      "text/latex": [
       "$0.36592418 \\; \\mathrm{}$"
      ],
      "text/plain": [
       "<Quantity 0.36592418>"
      ]
     },
     "execution_count": 38,
     "metadata": {},
     "output_type": "execute_result"
    }
   ],
   "source": [
    "(alpha-0.978)/alpha *100"
   ]
  },
  {
   "cell_type": "code",
   "execution_count": 2,
   "metadata": {},
   "outputs": [],
   "source": [
    "# from pathlib import Path\n",
    "# filepaths=\"data/camb\"\n",
    "# for file in os.listdir(filepaths):\n",
    "#     if file[-3:] == \"dat\":\n",
    "#         filepath = filepaths +\"/\" + file\n",
    "#         output_path = \"/home/jayashreeb/Documents/Power_Bi/nobao_project/mcmc_parallel_results/mcmc_\" + Path(filepath).stem + \".h5\"\n",
    "#         print(filepath,\"\\n\",output_path)"
   ]
  },
  {
   "cell_type": "markdown",
   "metadata": {},
   "source": [
    "# Get required plots for draft"
   ]
  },
  {
   "cell_type": "markdown",
   "metadata": {},
   "source": [
    "### Power Spectrum"
   ]
  },
  {
   "cell_type": "markdown",
   "metadata": {},
   "source": [
    "- ##### Mean pure BAO vs the best-fit model for GLAM power at different redshifts with : \n",
    "        - Same cosmology\n",
    "        - Wrong cosmology corrected by alpha"
   ]
  },
  {
   "cell_type": "code",
   "execution_count": null,
   "metadata": {},
   "outputs": [],
   "source": [
    "path = \" /global/u1/l/lado/GLAM_Bi\""
   ]
  },
  {
   "cell_type": "code",
   "execution_count": null,
   "metadata": {},
   "outputs": [],
   "source": []
  },
  {
   "cell_type": "code",
   "execution_count": null,
   "metadata": {},
   "outputs": [],
   "source": []
  },
  {
   "cell_type": "code",
   "execution_count": null,
   "metadata": {},
   "outputs": [],
   "source": []
  },
  {
   "cell_type": "markdown",
   "metadata": {},
   "source": [
    "### Bispectrum"
   ]
  },
  {
   "cell_type": "markdown",
   "metadata": {},
   "source": [
    "- ##### Mean pure BAO vs the best-fit model for GLAM power at  different redshifts with :\n",
    "        - Same cosmology\n",
    "        - Wrong cosmology corrected by alpha\n",
    "\n",
    "- ##### MCMC chains showing consistency of alpha at z = 0.5 and z = 0.0.\n",
    "- ##### 2 mcmc plots with and without gaussian parameter, sigma.\n",
    "- ##### One plot showing imposing priors doesn't make a difference\n",
    "- ##### Systematic offset in omegam (fixed omegab) vs H0 plane.\n",
    "\n",
    "\n"
   ]
  },
  {
   "cell_type": "code",
   "execution_count": null,
   "metadata": {},
   "outputs": [],
   "source": []
  },
  {
   "cell_type": "code",
   "execution_count": null,
   "metadata": {},
   "outputs": [],
   "source": []
  },
  {
   "cell_type": "markdown",
   "metadata": {},
   "source": []
  },
  {
   "cell_type": "code",
   "execution_count": null,
   "metadata": {},
   "outputs": [],
   "source": []
  },
  {
   "cell_type": "code",
   "execution_count": null,
   "metadata": {},
   "outputs": [],
   "source": []
  }
 ],
 "metadata": {
  "kernelspec": {
   "display_name": "bispectrum",
   "language": "python",
   "name": "bispectrum"
  },
  "language_info": {
   "codemirror_mode": {
    "name": "ipython",
    "version": 3
   },
   "file_extension": ".py",
   "mimetype": "text/x-python",
   "name": "python",
   "nbconvert_exporter": "python",
   "pygments_lexer": "ipython3",
   "version": "3.11.3"
  },
  "vscode": {
   "interpreter": {
    "hash": "35518a8f601ce667071484004641a61912be3e66b1299df90f40660fb95c8f5f"
   }
  }
 },
 "nbformat": 4,
 "nbformat_minor": 4
}
